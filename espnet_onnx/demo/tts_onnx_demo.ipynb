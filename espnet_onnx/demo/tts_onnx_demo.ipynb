{
 "cells": [
  {
   "cell_type": "markdown",
   "metadata": {},
   "source": [
    "\n",
    "# espnet_onnx TTS demonstration\n",
    "\n",
    "This notebook provides a demonstration of how to export your trained tts model into onnx format.\n",
    "\n",
    "see also:\n",
    "- ESPnet: https://github.com/espnet/espnet\n",
    "- espnet_onnx: https://github.com/Masao-Someki/espnet_onnx\n",
    "\n",
    "Author: [Masao Someki](https://github.com/Masao-Someki)\n",
    "\n",
    "\n",
    "## Table of Contents\n",
    "\n",
    "- Install Dependency\n",
    "- Export your model\n",
    "- Inference with onnx\n",
    "- Using streaming model"
   ]
  },
  {
   "cell_type": "markdown",
   "metadata": {},
   "source": [
    "# Install Dependency\n",
    "\n",
    "To run this demo, you need to install the following packages.\n",
    "- espnet_onnx\n",
    "- torch >= 1.11.0 (already installed in Colab)\n",
    "- espnet\n",
    "- espnet_model_zoo\n",
    "- onnx\n",
    "\n",
    "`torch`, `espnet`, `espnet_model_zoo`, `onnx` is required to run the exportation demo."
   ]
  },
  {
   "cell_type": "code",
   "execution_count": null,
   "metadata": {
    "vscode": {
     "languageId": "plaintext"
    }
   },
   "outputs": [],
   "source": [
    "!pip install -U espnet_onnx espnet espnet_model_zoo onnx\n",
    "\n",
    "# in this demo, we need to update scipy to avoid an error\n",
    "!pip install -U scipy"
   ]
  },
  {
   "cell_type": "markdown",
   "metadata": {},
   "source": [
    "# Export and inference\n",
    "\n",
    "Let's export tts model!\n",
    "For this demonstration, we will use `kan-bayashi/ljspeech_vits` model."
   ]
  },
  {
   "cell_type": "code",
   "execution_count": null,
   "metadata": {},
   "outputs": [],
   "source": [
    "# Export model\n",
    "from espnet_onnx.export import TTSModelExport\n",
    "\n",
    "tag_name = 'kan-bayashi/ljspeech_vits'\n",
    "m = TTSModelExport()\n",
    "m.export_from_pretrained(tag_name)"
   ]
  },
  {
   "cell_type": "code",
   "execution_count": null,
   "metadata": {},
   "outputs": [],
   "source": [
    "# use the exported model for inference\n",
    "from espnet_onnx import Text2Speech\n",
    "\n",
    "tag_name = 'kan-bayashi/ljspeech_vits'\n",
    "text2speech = Text2Speech(tag_name)\n",
    "\n",
    "text = 'Hello World!'\n",
    "output_dict = text2speech(text)\n",
    "\n",
    "import IPython.display as ipd\n",
    "ipd.Audio(output_dict['wav'], rate=22050)"
   ]
  }
 ],
 "metadata": {
  "language_info": {
   "name": "python"
  },
  "orig_nbformat": 4
 },
 "nbformat": 4,
 "nbformat_minor": 2
}
